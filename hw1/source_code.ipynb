{
 "cells": [
  {
   "cell_type": "markdown",
   "id": "4e3d55b4",
   "metadata": {},
   "source": [
    "## Requirements"
   ]
  },
  {
   "cell_type": "code",
   "execution_count": 241,
   "id": "7d23c135",
   "metadata": {},
   "outputs": [
    {
     "name": "stdout",
     "output_type": "stream",
     "text": [
      "Requirement already satisfied: numpy in d:\\program files\\anaconda\\lib\\site-packages (1.21.5)\n",
      "Requirement already satisfied: tqdm in d:\\program files\\anaconda\\lib\\site-packages (4.64.0)\n",
      "Requirement already satisfied: colorama in d:\\program files\\anaconda\\lib\\site-packages (from tqdm) (0.4.4)\n"
     ]
    }
   ],
   "source": [
    "#Requirement Library\n",
    "#a library that for math.el and logical and vectorizational operations\n",
    "!pip install numpy \n",
    "#a library for process bar \n",
    "!pip install tqdm "
   ]
  },
  {
   "cell_type": "code",
   "execution_count": 242,
   "id": "038cd4c4",
   "metadata": {},
   "outputs": [],
   "source": [
    "#  from time import sleep\n",
    "#libraries\n",
    "import numpy as np\n",
    "from tqdm import tqdm\n",
    "import random\n"
   ]
  },
  {
   "cell_type": "markdown",
   "id": "4a72f14b",
   "metadata": {},
   "source": [
    "## Waterman-Smith Algorithm implementation"
   ]
  },
  {
   "cell_type": "code",
   "execution_count": 292,
   "id": "738d07ba",
   "metadata": {},
   "outputs": [],
   "source": [
    "#functions\n",
    "def fill_matrix(H, s_A, s_B, match= 3, mis_match= -3, gap= -2): \n",
    "    #a method to generate score matrix\n",
    "    y,x = H.shape\n",
    "    left, up, diagonel, score = 0, 0, 0, 0 \n",
    "    \n",
    "    for i in range(1, y):\n",
    "        for j in range(1, x):\n",
    "            left = H[i][j-1] + gap\n",
    "            up = H[i-1][j] + gap\n",
    "            if(s_A[j-1] == s_B[i-1]):\n",
    "                diagonel = H[i-1][j-1] + match\n",
    "            else:\n",
    "                diagonel = H[i-1][j-1] + mis_match\n",
    "            score = max(left, up,diagonel)\n",
    "            if(score>0):\n",
    "                H[i][j] = score\n",
    "    return H\n",
    "\n",
    "def traceback(H,s_A,s_B):\n",
    "    #a method that to find out maximum similar text\n",
    "    result = []\n",
    "    i,j = np.unravel_index(H.argmax(), H.shape)\n",
    "    up, left, diagonal, maxx = 0, 0, 0, 0\n",
    "    while(H[i][j]!=0):\n",
    "        if(s_A[j-1] == s_B[i-1]):\n",
    "            result.append(s_A[j-1])\n",
    "        else:\n",
    "            result.append(\"_\")\n",
    "        left = H[i][j-1]\n",
    "        up = H[i-1][j]\n",
    "        diagonal = H[i-1][j-1]\n",
    "        maxx= max(left,up,diagonal)\n",
    "        if(diagonal == maxx):\n",
    "            i+=-1\n",
    "            j+=-1\n",
    "        elif(maxx==left):\n",
    "            j+=-1\n",
    "        else:\n",
    "            i+=-1\n",
    "    result.reverse()\n",
    "    if(result[0] == \"_\"):\n",
    "        result.pop(0)\n",
    "    return \" \".join(result)\n",
    "\n",
    "def smith_waterman_algorithm(string1, string2, show_matrix = False, match=3, mis_match=-3, gap=-2):\n",
    "    #an algorithm works with that method\n",
    "    s_A = string1.split(\" \")#sequence A\n",
    "    s_B = string2.split(\" \")#sequence B\n",
    "    H = np.zeros((len(s_B)+1,len(s_A)+1), dtype = np.ushort) #unsigned integter to memory issues\n",
    "    fill_matrix(H,s_A, s_B)\n",
    "    if(show_matrix):\n",
    "        print(H)\n",
    "    return traceback(H,s_A,s_B)\n",
    "\n",
    "def compare(string1, string2, show_matrix = False):\n",
    "    matched_str = smith_waterman_algorithm(string1, string2, show_matrix = show_matrix)\n",
    "    matched_txt_similarity_rate = (len(matched_str.split(\" \"))*2)/(len(string1.split(\" \"))+len(string2.split(\" \")))\n",
    "    return matched_str, matched_txt_similarity_rate\n",
    "\n",
    "\n",
    "\n",
    "def runHW():\n",
    "    global total_txt_count\n",
    "    global H_similarity_matrix\n",
    "    global H_matched_txt_matrix\n",
    "    similarity = 0.0\n",
    "    matched_txt = \"\"\n",
    "    str1 = \"\"\n",
    "    str2 = \"\"\n",
    "    for i in tqdm(range(total_txt_count)):\n",
    "        str1 = open(\"sources/\"+str(i)+\".txt\", mode='r', encoding=\"ISO-8859-1\").read()\n",
    "        for j in range(i+1,total_txt_count):\n",
    "            str2 = open(\"sources/\"+str(j)+\".txt\", mode='r', encoding=\"ISO-8859-1\").read()\n",
    "            matched_txt , similarity = compare(str1, str2)\n",
    "            H_similarity_matrix[i][j] = similarity\n",
    "            H_matched_txt_matrix[i,j] = matched_txt\n",
    "            \n"
   ]
  },
  {
   "cell_type": "code",
   "execution_count": 311,
   "id": "8d6f21b0",
   "metadata": {},
   "outputs": [
    {
     "name": "stderr",
     "output_type": "stream",
     "text": [
      "100%|████████████████████████████████████████████████████████████████████████████████████| 5/5 [00:05<00:00,  1.03s/it]\n"
     ]
    }
   ],
   "source": [
    "##run simple example with only 5 file\n",
    "total_txt_count = 5\n",
    "H_similarity_matrix = np.zeros((total_txt_count,total_txt_count), dtype = float) \n",
    "H_matched_txt_matrix = np.empty((total_txt_count, total_txt_count), dtype=object)\n",
    "\n",
    "runHW()"
   ]
  },
  {
   "cell_type": "code",
   "execution_count": 294,
   "id": "91f0cd68",
   "metadata": {},
   "outputs": [
    {
     "name": "stdout",
     "output_type": "stream",
     "text": [
      " _            _        _ _ _ _ _ _ _ _ _ _      _                       \n",
      "about and describing\n"
     ]
    }
   ],
   "source": [
    "print(H_matched_txt_matrix[1][4])\n",
    "print(H_matched_txt_matrix[0][1])"
   ]
  },
  {
   "cell_type": "code",
   "execution_count": 295,
   "id": "8a69ae58",
   "metadata": {},
   "outputs": [
    {
     "data": {
      "text/plain": [
       "array([[0.        , 0.00966184, 0.01489758, 0.00512821, 0.03041825],\n",
       "       [0.        , 0.        , 0.01408451, 0.00475059, 0.21543986],\n",
       "       [0.        , 0.        , 0.        , 0.00593472, 0.02536998],\n",
       "       [0.        , 0.        , 0.        , 0.        , 0.00613497],\n",
       "       [0.        , 0.        , 0.        , 0.        , 0.        ]])"
      ]
     },
     "execution_count": 295,
     "metadata": {},
     "output_type": "execute_result"
    }
   ],
   "source": [
    "H_similarity_matrix # a matrix that shows file's pair similarity"
   ]
  },
  {
   "cell_type": "code",
   "execution_count": 319,
   "id": "9e381151",
   "metadata": {},
   "outputs": [
    {
     "name": "stderr",
     "output_type": "stream",
     "text": [
      "100%|██████████████████████████████████████████████████████████████████████████████████| 20/20 [01:38<00:00,  4.90s/it]\n"
     ]
    }
   ],
   "source": [
    "#intermediate example with 20 file\n",
    "total_txt_count = 20\n",
    "H_similarity_matrix = np.zeros((total_txt_count,total_txt_count), dtype = float) \n",
    "H_matched_txt_matrix = np.empty((total_txt_count, total_txt_count), dtype=object)\n",
    "\n",
    "runHW()"
   ]
  },
  {
   "cell_type": "code",
   "execution_count": 322,
   "id": "3aab79e0",
   "metadata": {},
   "outputs": [
    {
     "name": "stdout",
     "output_type": "stream",
     "text": [
      "7.txt and 18.txt are have most similar text\n",
      "Matched text is: as substantially in contrast to statistics for Wikipedia in other languages (non-English \n",
      "Wikipedia). The Economist reported that the number of contributors with an average of five or more \n",
      "edits per month was relatively constant since 2008 for Wikipedia in other languages at approximately\n",
      " 42,000 editors within narrow seasonal variances of about 2,000 editors up or down. The number of \n",
      "active editors in English Wikipedia, by \"sharp\" comparison, was cited as peaking in 2007 at \n",
      "approximately 50,000 and dropping to 30,000 by the start of with 0.4148148148148148 score\n"
     ]
    }
   ],
   "source": [
    "#find most similar files pair\n",
    "i,j = np.unravel_index(H_similarity_matrix.argmax(), H_similarity_matrix.shape)\n",
    "\n",
    "print(str(i)+\".txt and \"+str(j)+\".txt\" + \" are have most similar text\")\n",
    "\n",
    "print(\"Matched text is: \" +  H_matched_txt_matrix[i][j] +\n",
    "      \" with \" + str(H_similarity_matrix[i][j]) + \" score\")\n"
   ]
  },
  {
   "cell_type": "markdown",
   "id": "2b9f8462",
   "metadata": {},
   "source": [
    "# Some Score Matrix examples"
   ]
  },
  {
   "cell_type": "code",
   "execution_count": 323,
   "id": "9b885359",
   "metadata": {},
   "outputs": [
    {
     "name": "stdout",
     "output_type": "stream",
     "text": [
      "[[ 0  0  0  0  0  0  0  0  0  0  0  0  0  0]\n",
      " [ 0  3  1  0  0  0  0  0  0  0  0  3  3  1]\n",
      " [ 0  3  1  0  0  0  0  0  0  0  0  3  6  4]\n",
      " [ 0  3  1  0  0  0  0  0  0  0  0  3  6  4]\n",
      " [ 0  1  6  4  2  3  1  0  3  3  3  1  4  9]\n",
      " [ 0  0  4  3  1  1  6  4  2  1  1  0  2  7]\n",
      " [ 0  0  2  1  6  4  4  9  7  5  3  1  0  5]\n",
      " [ 0  0  3  5  4  9  7  7 12 10  8  6  4  3]\n",
      " [ 0  0  3  6  4  7  6  5 10 15 13 11  9  7]\n",
      " [ 0  3  1  4  3  5  4  3  8 13 12 16 14 12]\n",
      " [ 0  3  1  2  1  3  2  1  6 11 10 15 19 17]\n",
      " [ 0  3  1  0  0  1  0  0  4  9  8 13 18 16]\n",
      " [ 0  1  0  0  0  0  0  0  2  7  6 11 16 15]\n",
      " [ 0  0  0  0  0  0  0  0  0  5  4  9 14 13]]\n"
     ]
    },
    {
     "data": {
      "text/plain": [
       "'G G G C C _ C N T C C C G G'"
      ]
     },
     "execution_count": 323,
     "metadata": {},
     "output_type": "execute_result"
    }
   ],
   "source": [
    "smith_waterman_algorithm(\"G C C T C N T C C C G G C\", \"G G G C N T C C G G G F H\", show_matrix = True)"
   ]
  },
  {
   "cell_type": "code",
   "execution_count": 324,
   "id": "4f91db5b",
   "metadata": {},
   "outputs": [
    {
     "name": "stdout",
     "output_type": "stream",
     "text": [
      "[[0 0 0 0 0]\n",
      " [0 0 0 0 3]\n",
      " [0 0 0 0 3]\n",
      " [0 0 0 3 1]\n",
      " [0 0 0 1 6]]\n"
     ]
    },
    {
     "data": {
      "text/plain": [
       "'C D'"
      ]
     },
     "execution_count": 324,
     "metadata": {},
     "output_type": "execute_result"
    }
   ],
   "source": [
    "smith_waterman_algorithm(\"A B C D\", \"D D C D\", show_matrix = True)"
   ]
  },
  {
   "cell_type": "code",
   "execution_count": 325,
   "id": "d8815b1a",
   "metadata": {},
   "outputs": [
    {
     "name": "stdout",
     "output_type": "stream",
     "text": [
      "[[ 0  0  0  0  0  0  0  0  0  0  0  0  0  0  0  0  0  0]\n",
      " [ 0  3  1  0  0  0  0  3  1  0  0  0  0  3  1  0  0  3]\n",
      " [ 0  1  0  0  0  3  1  1  6  4  2  0  0  1  0  0  3  1]\n",
      " [ 0  0  0  0  3  1  0  0  4  3  7  5  3  1  0  0  1  0]\n",
      " [ 0  0  0  0  1  0  4  2  2  1  5  4  2  0  0  0  0  0]\n",
      " [ 0  0  0  0  0  0  2  1  0  0  3  8  6  4  2  0  0  0]\n",
      " [ 0  0  3  1  0  0  0  0  0  0  1  6 11  9  7  5  3  1]\n",
      " [ 0  0  1  6  4  2  0  0  0  0  0  4  9  8 12 10  8  6]\n",
      " [ 0  0  0  4  3  1  0  0  0  3  1  2  7  6 10 15 13 11]\n",
      " [ 0  3  1  2  1  0  0  3  1  1  0  0  5 10  8 13 12 16]\n",
      " [ 0  1  0  0  0  4  2  1  6  4  2  0  3  8  7 11 16 14]\n",
      " [ 0  0  0  0  0  2  1  0  4  3  1  5  3  6  5  9 14 13]\n",
      " [ 0  0  0  0  3  1  0  0  2  1  6  4  2  4  3  7 12 11]\n",
      " [ 0  0  0  3  1  0  0  0  0  0  4  3  1  2  7  5 10  9]\n",
      " [ 0  0  0  1  0  0  3  1  0  0  2  1  0  0  5  4  8  7]\n",
      " [ 0  0  0  0  0  0  1  0  0  3  1  0  0  0  3  8  6  5]\n",
      " [ 0  0  3  1  0  0  0  0  0  1  0  0  3  1  1  6  5  3]\n",
      " [ 0  3  1  0  0  0  0  3  1  0  0  0  1  6  4  4  3  8]\n",
      " [ 0  1  0  0  0  0  0  1  0  0  0  3  1  4  3  2  1  6]\n",
      " [ 0  0  0  0  3  1  0  0  0  0  3  1  0  2  1  0  0  4]\n",
      " [ 0  0  0  0  1  6  4  2  3  1  1  0  0  0  0  0  3  2]\n",
      " [ 0  0  0  0  0  4  9  7  5  3  1  0  0  0  0  0  1  0]\n",
      " [ 0  3  1  0  0  2  7 12 10  8  6  4  2  3  1  0  0  4]\n",
      " [ 0  1  0  4  2  0  5 10  9  7  5  3  1  1  6  4  2  2]\n",
      " [ 0  0  0  2  1  0  3  8  7  6  4  2  0  0  4  3  1  0]]\n"
     ]
    },
    {
     "data": {
      "text/plain": [
       "'f a _ d _ s k _ j ; _ f'"
      ]
     },
     "execution_count": 325,
     "metadata": {},
     "output_type": "execute_result"
    }
   ],
   "source": [
    "smith_waterman_algorithm(\"f k j d a l f a ; d s k f j ; a f\", \"f a d l s k j ; f a s d j l ; k f s d a l f j \", show_matrix = True)"
   ]
  },
  {
   "cell_type": "markdown",
   "id": "d80c62f0",
   "metadata": {},
   "source": [
    "## Extra part\n",
    "\n",
    "#### -I also implement Waterman-Smith algorithm with only recursion algorithm \n",
    "\n",
    "#### -I also coded script to parse and text processing for converting pdf\n",
    "\n",
    "#### -I also added progress bar to know how long process's duration"
   ]
  },
  {
   "cell_type": "code",
   "execution_count": 332,
   "id": "84ee8cfd",
   "metadata": {},
   "outputs": [],
   "source": [
    "#recurison version  Waterman-Smith algorithm\n",
    "def fill_matrixR(H, s_A, s_B, j, i, match= 3, mis_match= -3, gap= -2): #current_location_x \n",
    "        if (j == (len(s_A)+1) and i == (len(s_B))):\n",
    "            return H\n",
    "        elif (j == (len(s_A))+1):\n",
    "            return fill_matrixR(H, s_A, s_B, 1, i+1,match, mis_match,gap)\n",
    "        else:\n",
    "            if(s_A[j-1]==s_B[i-1]):\n",
    "                diagonal = H[i-1][j-1] + match\n",
    "            else:\n",
    "                diagonal = H[i-1][j-1] + mis_match\n",
    "                \n",
    "            up = H[i-1][j] + gap\n",
    "            left = H[i][j-1] + gap           \n",
    "            result = max(diagonal,up,left)\n",
    "            if (result<0):\n",
    "                H[i][j] = 0\n",
    "            else:\n",
    "                H[i][j] = result\n",
    "            return fill_matrixR(H, s_A, s_B, j+1, i, match, mis_match, gap)\n",
    "        \n",
    "def tracebackR(H,string,s_A,s_B,i,j,add=True):\n",
    "    if(H[i][j] == 0):\n",
    "        string\n",
    "        return string\n",
    "    else:\n",
    "        if(s_A[j-1] == s_B[i-1]):\n",
    "            string+=s_A[j-1]\n",
    "        elif(H[i][j]!=0):\n",
    "            string+=\"-\"\n",
    "        up = H[i-1][j]\n",
    "        left = H[i][j-1]\n",
    "        diagonel = H[i-1][j-1]\n",
    "        maxx =max(up,left,diagonel) \n",
    "        if(maxx == up):\n",
    "            return tracebackR(H, string, s_A,s_B, i-1,j,False)\n",
    "        elif(maxx == left):\n",
    "            return tracebackR(H, string, s_A,s_B, i,j-1,False)\n",
    "        else:\n",
    "            return tracebackR(H, string, s_A,s_B, i-1,j-1,True)\n",
    "\n",
    "def smith_waterman_algorithmR(s_A,s_B, match = 3, mis_match=-3, gap=-2, show_matrix = False):\n",
    "    H = np.zeros((len(s_B)+1,len(s_A)+1), dtype = int)\n",
    "    \n",
    "    fill_matrixR(H, s_A, s_B, 1, 1, match, mis_match, gap)\n",
    "\n",
    "    i,j = np.unravel_index(H.argmax(), H.shape)\n",
    "    if(show_matrix):\n",
    "        print(H)\n",
    "    result=tracebackR(H,\"\",s_A,s_B,i,j)[::-1]\n",
    "    if(result[0] == '-'):\n",
    "        return result[1:]\n",
    "    return result  "
   ]
  },
  {
   "cell_type": "code",
   "execution_count": 335,
   "id": "cb6bd515",
   "metadata": {},
   "outputs": [
    {
     "name": "stdout",
     "output_type": "stream",
     "text": [
      "[[ 0  0  0  0  0  0  0  0  0  0  0  0  0  0  0  0  0  0  0  0  0]\n",
      " [ 0  0  0  0  0  0  0  0  0  0  3  1  0  0  0  0  0  0  0  0  0]\n",
      " [ 0  0  0  0  0  0  0  3  1  0  1  6  4  2  0  0  0  0  0  0  0]\n",
      " [ 0  0  0  0  0  0  0  1  0  0  0  4  9  7  5  3  1  0  0  3  1]\n",
      " [ 0  0  0  0  3  1  0  0  0  0  0  2  7 12 10  8  6  4  2  1  6]\n",
      " [ 0  0  0  0  1  6  4  2  0  3  1  0  5 10  9  7  5  9  7  5  4]\n",
      " [ 0  3  1  0  0  4  9  7  5  3  1  0  3  8  7  6  4  7  6  4  2]\n",
      " [ 0  1  0  0  0  2  7 12 10  8  6  4  2  6  5  4  3  5  4  3  1]\n",
      " [ 0  0  0  0  0  0  5 10 15 13 11  9  7  5  3  2  1  3  2  1  0]\n",
      " [ 0  0  3  1  0  0  3  8 13 12 10  8  6  4  2  6  4  2  6  4  2]\n",
      " [ 0  3  1  0  0  0  3  6 11 10  9  7  5  3  1  4  3  1  4  3  1]\n",
      " [ 0  1  0  0  0  0  1  4  9  8  7  6  4  2  0  2  1  0  2  1  0]\n",
      " [ 0  0  0  0  0  0  0  2  7  6  5  4  3  1  0  0  0  0  0  0  0]\n",
      " [ 0  0  0  0  0  0  0  0  5  4  3  2  1  0  0  0  0  0  0  0  0]\n",
      " [ 0  0  0  0  0  0  0  0  3  2  1  0  0  0  3  1  3  1  0  0  0]\n",
      " [ 0  0  0  0  0  3  1  0  1  6  4  2  0  0  1  0  1  6  4  2  0]\n",
      " [ 0  3  1  0  0  1  6  4  2  4  3  1  0  0  0  0  0  4  3  1  0]\n",
      " [ 0  1  6  4  2  0  4  3  1  2  1  0  0  0  0  3  1  2  7  5  3]\n",
      " [ 0  0  4  9  7  5  3  1  0  0  0  0  0  0  0  1  0  0  5  4  2]\n",
      " [ 0  0  2  7 12 10  8  6  4  2  0  0  0  3  1  0  0  0  3  2  7]\n",
      " [ 0  0  0  5 10 15 13 11  9  7  5  3  1  1  0  0  0  3  1  0  5]\n",
      " [ 0  0  0  3  8 13 12 10  8  6  4  2  0  0  0  0  0  1  0  0  3]\n",
      " [ 0  0  0  1  6 11 10  9  7  5  3  1  0  3  1  0  0  0  0  0  3]]\n"
     ]
    },
    {
     "data": {
      "text/plain": [
       "'e yaz'"
      ]
     },
     "execution_count": 335,
     "metadata": {},
     "output_type": "execute_result"
    }
   ],
   "source": [
    "smith_waterman_algorithmR(\"yine yaz kalemim ile\", \"kale yaziyorum yine ve\", show_matrix = True)"
   ]
  },
  {
   "cell_type": "code",
   "execution_count": 336,
   "id": "baf52fe9",
   "metadata": {},
   "outputs": [
    {
     "name": "stdout",
     "output_type": "stream",
     "text": [
      "[[ 0  0  0  0  0  0  0  0  0  0  0]\n",
      " [ 0  3  1  0  0  0  0  0  0  0  0]\n",
      " [ 0  1  6  4  3  1  0  0  0  0  0]\n",
      " [ 0  0  4  9  7  5  3  1  0  0  0]\n",
      " [ 0  0  3  7 12 10  8  6  4  2  0]\n",
      " [ 0  0  1  5 10  9  7  5  3  1  0]\n",
      " [ 0  0  3  3  8  7  6  4  2  0  0]\n",
      " [ 0  0  1  1  6 11  9  7  5  3  1]\n",
      " [ 0  0  0  0  4  9  8  6  4  2  0]\n",
      " [ 0  0  3  1  3  7  6  5  3  1  0]\n",
      " [ 0  0  1  0  1  5  4  3  2  6  4]\n",
      " [ 0  0  0  0  0  3  2  1  0  4  3]\n",
      " [ 0  0  3  1  3  1  0  0  0  2  1]\n",
      " [ 0  0  1  0  1  0  0  0  0  0  0]\n",
      " [ 0  0  3  1  3  1  0  0  0  0  0]\n",
      " [ 0  0  1  0  1  6  4  2  0  0  0]\n",
      " [ 0  0  0  0  0  4  3  1  0  0  0]\n",
      " [ 0  0  0  0  0  2  1  6  4  2  0]\n",
      " [ 0  0  0  0  0  0  0  4  3  1  0]\n",
      " [ 0  0  0  0  0  0  0  3  1  0  0]\n",
      " [ 0  0  0  0  0  0  0  1  0  4  2]\n",
      " [ 0  0  0  0  0  0  0  0  0  2  1]\n",
      " [ 0  0  0  0  0  0  0  0  0  0  0]\n",
      " [ 0  0  0  0  0  0  0  0  0  0  0]\n",
      " [ 0  0  0  0  0  0  0  0  0  0  0]]\n"
     ]
    },
    {
     "data": {
      "text/plain": [
       "'hala'"
      ]
     },
     "execution_count": 336,
     "metadata": {},
     "output_type": "execute_result"
    }
   ],
   "source": [
    "smith_waterman_algorithmR(\"hala nieye\", \"halama bayrama gidiyorum\", show_matrix = True)"
   ]
  },
  {
   "cell_type": "code",
   "execution_count": null,
   "id": "7a0aaddd",
   "metadata": {},
   "outputs": [],
   "source": [
    "#script to parsing and process pdf to txt\n",
    "import sys\n",
    "import codecs\n",
    "import PyPDF2\n",
    "from tqdm import tqdm\n",
    "\n",
    "\n",
    "count = 0\n",
    "def translateTotxt(file_name):\n",
    "    global count\n",
    "    # creating a pdf file object \n",
    "    pdfFileObj = open(file_name  +\".pdf\", 'rb') \n",
    "    file1 = open(file_name + \".txt\",\"w\")\n",
    "\n",
    "\n",
    "    # creating a pdf reader object \n",
    "    pdfReader = PyPDF2.PdfFileReader(pdfFileObj) \n",
    "\n",
    "    num_pages = pdfReader.numPages\n",
    "    print(\"num_pages\")\n",
    "    extracted_str = \"\"\n",
    "    j = 0\n",
    "    for i in range(int(num_pages)):\n",
    "        j+=1\n",
    "        if(j==5):\n",
    "            file1= codecs.open(str(count) + \".txt\", \"w\", \"utf-8\")\n",
    "            file1 = open(str(count) + \".txt\",\"w\")\n",
    "            try:\n",
    "                if(len(extracted_str)>2000):\n",
    "                    extracted_str = extracted_str[:2000] #turnicate\n",
    "                \n",
    "                print(extracted_str)\n",
    "                file1.write(extracted_str)\n",
    "            except:\n",
    "                print(\"there is an except\")\n",
    "                count=-1\n",
    "            extracted_str = \"\"\n",
    "            file1.close()\n",
    "            count+=1\n",
    "            j=0\n",
    "    extracted_str += pdfReader.getPage(i).extractText()\n",
    "    print(len(extracted_str))\n",
    "    file1.close()\n",
    "    pdfFileObj.close()\n",
    "\n",
    "\n",
    "for i in tqdm(range(1, 3)):\n",
    "    translateTotxt(\"a\"+str(i))"
   ]
  }
 ],
 "metadata": {
  "kernelspec": {
   "display_name": "Python 3 (ipykernel)",
   "language": "python",
   "name": "python3"
  },
  "language_info": {
   "codemirror_mode": {
    "name": "ipython",
    "version": 3
   },
   "file_extension": ".py",
   "mimetype": "text/x-python",
   "name": "python",
   "nbconvert_exporter": "python",
   "pygments_lexer": "ipython3",
   "version": "3.9.12"
  }
 },
 "nbformat": 4,
 "nbformat_minor": 5
}
